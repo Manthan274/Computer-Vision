{
 "cells": [
  {
   "cell_type": "code",
   "execution_count": 35,
   "metadata": {},
   "outputs": [],
   "source": [
    "import numpy as np\n",
    "import pandas as pd\n",
    "import os\n",
    "import cv2\n",
    "import keras\n",
    "\n",
    "import matplotlib.pyplot as plt\n",
    "from keras.models import Sequential \n",
    "from keras.layers import Dense, Flatten, Dropout\n",
    "from keras.layers.convolutional import Conv2D, MaxPooling2D\n",
    "from keras.utils import np_utils\n",
    "from keras import backend as K\n",
    "from sklearn.model_selection import train_test_split\n",
    "%matplotlib inline\n",
    "K.set_image_dim_ordering('th')"
   ]
  },
  {
   "cell_type": "code",
   "execution_count": 36,
   "metadata": {},
   "outputs": [],
   "source": [
    "train=pd.read_csv('train.csv')\n",
    "test=pd.read_csv('test.csv')"
   ]
  },
  {
   "cell_type": "code",
   "execution_count": 37,
   "metadata": {},
   "outputs": [
    {
     "name": "stdout",
     "output_type": "stream",
     "text": [
      "(28, 28)\n",
      "[0 0 0 0 0 0 0 0 0 0 0 0 0 0 0 0 0 0 0 0 0 0 0 0 0 0 0 0]\n"
     ]
    },
    {
     "data": {
      "image/png": "[encoded data removed]",
      "text/plain": [
       "<matplotlib.figure.Figure at 0x25861858438>"
      ]
     },
     "metadata": {},
     "output_type": "display_data"
    }
   ],
   "source": [
    "# To stop potential randomness\n",
    "seed = 12\n",
    "rng = np.random.RandomState(seed)\n",
    "img_name = rng.choice(train.filename)\n",
    "filepath = os.path.join('images', 'train', img_name)\n",
    "\n",
    "img = cv2.imread(filepath, cv2.IMREAD_GRAYSCALE)\n",
    "plt.imshow(img)\n",
    "print(img.shape)\n",
    "print(img[0])"
   ]
  },
  {
   "cell_type": "code",
   "execution_count": 38,
   "metadata": {},
   "outputs": [],
   "source": [
    "temp = []\n",
    "for img_name in train.filename:\n",
    "    image_path = os.path.join('images', 'train', img_name)\n",
    "    img = cv2.imread(image_path, cv2.IMREAD_GRAYSCALE)\n",
    "    img = img.astype('float32')\n",
    "    temp.append(img)\n",
    "    \n",
    "train_x = np.stack(temp)\n",
    "# reshape to be [samples][pixels][width][height]\n",
    "train_x=train_x.reshape(train_x.shape[0], 1,28, 28).astype('float32')"
   ]
  },
  {
   "cell_type": "code",
   "execution_count": 39,
   "metadata": {},
   "outputs": [],
   "source": [
    "temp_test = []\n",
    "for img_name_test in test.filename:\n",
    "    image_path_test = os.path.join('images' ,'test', img_name_test)\n",
    "    img_test = cv2.imread(image_path_test, cv2.IMREAD_GRAYSCALE)\n",
    "    img_test = img_test.astype('float32')\n",
    "    temp_test.append(img_test)\n",
    "    \n",
    "test_x = np.stack(temp_test)\n",
    "# reshape to be [samples][pixels][width][height]\n",
    "test_x=test_x.reshape(test_x.shape[0], 1,28, 28).astype('float32')"
   ]
  },
  {
   "cell_type": "code",
   "execution_count": 40,
   "metadata": {},
   "outputs": [
    {
     "name": "stdout",
     "output_type": "stream",
     "text": [
      "(39200, 1, 28, 28)\n",
      "[[0. 0. 0. ... 0. 0. 0.]\n",
      " [0. 0. 0. ... 1. 0. 0.]\n",
      " [0. 0. 0. ... 1. 0. 0.]\n",
      " ...\n",
      " [0. 0. 0. ... 0. 1. 0.]\n",
      " [0. 1. 0. ... 0. 0. 0.]\n",
      " [0. 0. 0. ... 0. 0. 0.]]\n"
     ]
    }
   ],
   "source": [
    "train_y = keras.utils.np_utils.to_categorical(train.label.values)\n",
    "\n",
    "X_train, X_test, y_train, y_test = train_test_split(train_x, train_y, test_size=0.2, random_state=42)\n",
    "\n",
    "# normalize inputs from 0-255 to 0-1\n",
    "X_train = X_train / 255\n",
    "X_test = X_test / 255\n",
    "\n",
    "\n",
    "num_classes =y_test.shape[1]\n",
    "print(X_train.shape)\n",
    "print(y_train)"
   ]
  },
  {
   "cell_type": "code",
   "execution_count": 41,
   "metadata": {},
   "outputs": [],
   "source": [
    "def cnn_model():\n",
    "    # create model\n",
    "    model = Sequential()\n",
    "    model.add(Conv2D(30, (5, 5), input_shape=(1,28, 28), activation='relu'))\n",
    "    model.add(MaxPooling2D(pool_size=(2, 2)))\n",
    "    model.add(Conv2D(15, (3, 3), activation='relu'))\n",
    "    model.add(MaxPooling2D(pool_size=(2, 2)))\n",
    "    model.add(Dropout(0.2))\n",
    "    model.add(Flatten())\n",
    "    model.add(Dense(128, activation='relu'))\n",
    "    model.add(Dense(50, activation='relu'))\n",
    "    model.add(Dense(num_classes, activation='softmax'))\n",
    "    # Compile model\n",
    "    model.compile(loss='categorical_crossentropy', optimizer='adam', metrics=['accuracy'])\n",
    "    return model"
   ]
  },
  {
   "cell_type": "code",
   "execution_count": 31,
   "metadata": {},
   "outputs": [],
   "source": [
    "#model=larger_model()\n",
    "#model.fit(X_train, y_train, validation_data=(X_test, y_test), epochs=10, batch_size=200)\n",
    "# Final evaluation of the model\n",
    "#scores = model.evaluate(X_train, y_train, verbose=0)\n",
    "#print(\"CNN Error: %.2f%%\" % (100-scores[1]*100))"
   ]
  },
  {
   "cell_type": "code",
   "execution_count": 32,
   "metadata": {},
   "outputs": [
    {
     "name": "stdout",
     "output_type": "stream",
     "text": [
      "Saved model to disk\n"
     ]
    }
   ],
   "source": [
    "# serialize model to JSON\n",
    "model_json = model.to_json()\n",
    "with open(\"model.json\", \"w\") as json_file:\n",
    "    json_file.write(model_json)\n",
    "# serialize weights to HDF5\n",
    "model.save_weights(\"model.h5\")\n",
    "print(\"Saved model to disk\")"
   ]
  },
  {
   "cell_type": "code",
   "execution_count": 33,
   "metadata": {
    "collapsed": true
   },
   "outputs": [],
   "source": [
    "predictions = model.predict_classes(test_x)"
   ]
  },
  {
   "cell_type": "code",
   "execution_count": 34,
   "metadata": {},
   "outputs": [
    {
     "data": {
      "text/plain": [
       "array([4, 0, 9, ..., 6, 6, 2], dtype=int64)"
      ]
     },
     "execution_count": 34,
     "metadata": {},
     "output_type": "execute_result"
    }
   ],
   "source": [
    "predictions"
   ]
  },
  {
   "cell_type": "code",
   "execution_count": 67,
   "metadata": {},
   "outputs": [
    {
     "name": "stdout",
     "output_type": "stream",
     "text": [
      "(49000, 1, 28, 28)\n",
      "[[ 0.  0.  0. ...,  0.  0.  0.]\n",
      " [ 0.  0.  0. ...,  0.  0.  1.]\n",
      " [ 0.  1.  0. ...,  0.  0.  0.]\n",
      " ..., \n",
      " [ 0.  0.  0. ...,  0.  0.  1.]\n",
      " [ 0.  0.  0. ...,  0.  0.  0.]\n",
      " [ 1.  0.  0. ...,  0.  0.  0.]]\n"
     ]
    }
   ],
   "source": [
    "#training with full data\n",
    "train_x = train_x / 255\n",
    "test_x=test_x/255\n",
    "print(train_x.shape)\n",
    "print(train_y)"
   ]
  },
  {
   "cell_type": "code",
   "execution_count": 68,
   "metadata": {},
   "outputs": [
    {
     "name": "stdout",
     "output_type": "stream",
     "text": [
      "Train on 49000 samples, validate on 49000 samples\n",
      "Epoch 1/10\n",
      "49000/49000 [==============================] - 172s 4ms/step - loss: 0.4630 - acc: 0.8577 - val_loss: 0.1009 - val_acc: 0.9701\n",
      "Epoch 2/10\n",
      "49000/49000 [==============================] - 178s 4ms/step - loss: 0.1105 - acc: 0.9660 - val_loss: 0.0676 - val_acc: 0.9798\n",
      "Epoch 3/10\n",
      "49000/49000 [==============================] - 176s 4ms/step - loss: 0.0788 - acc: 0.9754 - val_loss: 0.0468 - val_acc: 0.9853\n",
      "Epoch 4/10\n",
      "49000/49000 [==============================] - 176s 4ms/step - loss: 0.0662 - acc: 0.9790 - val_loss: 0.0406 - val_acc: 0.9874\n",
      "Epoch 5/10\n",
      "49000/49000 [==============================] - 176s 4ms/step - loss: 0.0555 - acc: 0.9825 - val_loss: 0.0332 - val_acc: 0.9895\n",
      "Epoch 6/10\n",
      "49000/49000 [==============================] - 176s 4ms/step - loss: 0.0483 - acc: 0.9843 - val_loss: 0.0290 - val_acc: 0.9908\n",
      "Epoch 7/10\n",
      "49000/49000 [==============================] - 168s 3ms/step - loss: 0.0429 - acc: 0.9861 - val_loss: 0.0229 - val_acc: 0.9933\n",
      "Epoch 8/10\n",
      "49000/49000 [==============================] - 151s 3ms/step - loss: 0.0390 - acc: 0.9878 - val_loss: 0.0213 - val_acc: 0.9934\n",
      "Epoch 9/10\n",
      "49000/49000 [==============================] - 151s 3ms/step - loss: 0.0359 - acc: 0.9887 - val_loss: 0.0179 - val_acc: 0.9950\n",
      "Epoch 10/10\n",
      "49000/49000 [==============================] - 178s 4ms/step - loss: 0.0332 - acc: 0.9892 - val_loss: 0.0194 - val_acc: 0.9941\n",
      "CNN Error: 0.59%\n"
     ]
    }
   ],
   "source": [
    "#model training\n",
    "model_final=larger_model()\n",
    "model_final.fit(train_x, train_y, validation_data=(train_x, train_y), epochs=10, batch_size=200)\n",
    "# Final evaluation of the model\n",
    "scores_final = model_final.evaluate(train_x, train_y, verbose=0)\n",
    "print(\"CNN Error: %.2f%%\" % (100-scores_final[1]*100))"
   ]
  },
  {
   "cell_type": "code",
   "execution_count": 69,
   "metadata": {},
   "outputs": [
    {
     "name": "stdout",
     "output_type": "stream",
     "text": [
      "Saved model to disk\n"
     ]
    }
   ],
   "source": [
    "# serialize model to JSON\n",
    "model_json = model_final.to_json()\n",
    "with open(\"model_final.json\", \"w\") as json_file:\n",
    "    json_file.write(model_json)\n",
    "# serialize weights to HDF5\n",
    "model_final.save_weights(\"model_final.h5\")\n",
    "print(\"Saved model to disk\")"
   ]
  },
  {
   "cell_type": "code",
   "execution_count": 71,
   "metadata": {},
   "outputs": [],
   "source": [
    "predictions = model_final.predict_classes(test_x)\n",
    "\n",
    "submissions=pd.DataFrame({\"ImageId\": list(test['filename']),\n",
    "                         \"Label\": predictions})\n",
    "submissions.to_csv(\"test_predictions.csv\", index=False, header=True)"
   ]
  },
  {
   "cell_type": "code",
   "execution_count": 72,
   "metadata": {},
   "outputs": [
    {
     "data": {
      "text/plain": [
       "array([4, 0, 9, ..., 6, 6, 2], dtype=int64)"
      ]
     },
     "execution_count": 72,
     "metadata": {},
     "output_type": "execute_result"
    }
   ],
   "source": [
    "predictions"
   ]
  },
  {
   "cell_type": "code",
   "execution_count": null,
   "metadata": {},
   "outputs": [],
   "source": []
  },
  {
   "cell_type": "code",
   "execution_count": null,
   "metadata": {},
   "outputs": [],
   "source": []
  },
  {
   "cell_type": "code",
   "execution_count": null,
   "metadata": {
    "collapsed": true
   },
   "outputs": [],
   "source": []
  }
 ],
 "metadata": {
  "kernelspec": {
   "display_name": "Python 3",
   "language": "python",
   "name": "python3"
  },
  "language_info": {
   "codemirror_mode": {
    "name": "ipython",
    "version": 3
   },
   "file_extension": ".py",
   "mimetype": "text/x-python",
   "name": "python",
   "nbconvert_exporter": "python",
   "pygments_lexer": "ipython3",
   "version": "3.6.4"
  }
 },
 "nbformat": 4,
 "nbformat_minor": 2
}
